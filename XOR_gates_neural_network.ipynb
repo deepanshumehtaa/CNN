{
  "nbformat": 4,
  "nbformat_minor": 0,
  "metadata": {
    "kernelspec": {
      "display_name": "Python 3",
      "language": "python",
      "name": "python3"
    },
    "language_info": {
      "codemirror_mode": {
        "name": "ipython",
        "version": 3
      },
      "file_extension": ".py",
      "mimetype": "text/x-python",
      "name": "python",
      "nbconvert_exporter": "python",
      "pygments_lexer": "ipython3",
      "version": "3.6.1"
    },
    "colab": {
      "name": "XOR-gates-neural-network.ipynb",
      "provenance": [],
      "include_colab_link": true
    }
  },
  "cells": [
    {
      "cell_type": "markdown",
      "metadata": {
        "id": "view-in-github",
        "colab_type": "text"
      },
      "source": [
        "<a href=\"https://colab.research.google.com/github/deepanshumehtaa/CNN/blob/master/XOR_gates_neural_network.ipynb\" target=\"_parent\"><img src=\"https://colab.research.google.com/assets/colab-badge.svg\" alt=\"Open In Colab\"/></a>"
      ]
    },
    {
      "cell_type": "markdown",
      "metadata": {
        "id": "rl2w5HxsdbUE",
        "colab_type": "text"
      },
      "source": [
        "# Xor Rule => odd 1 = 1  (oo = o)"
      ]
    },
    {
      "cell_type": "code",
      "metadata": {
        "id": "_2XcM6kQdbUG",
        "colab_type": "code",
        "colab": {}
      },
      "source": [
        "import numpy as np\n",
        "\n",
        "from keras.models import Sequential\n",
        "from keras.layers.core import Dense\n",
        "\n",
        "from keras.callbacks import Callback\n",
        "from keras.callbacks import EarlyStopping\n",
        "\n",
        "from matplotlib import pyplot"
      ],
      "execution_count": 0,
      "outputs": []
    },
    {
      "cell_type": "code",
      "metadata": {
        "id": "6SJkX5iydbUM",
        "colab_type": "code",
        "colab": {}
      },
      "source": [
        "# Callbacks \n",
        "# early stopping of training via a callback called EarlyStopping.\n",
        "\n",
        "ACCURACY_THRESHOLD = 0.900\n",
        "\n",
        "class monitering(Callback):\n",
        "    def on_train_begin(self, logs={}):\n",
        "        self.losses = []\n",
        "\n",
        "    def on_batch_end(self, batch, logs={}):\n",
        "        self.losses.append(logs.get('loss'))\n",
        "        \n",
        "    def on_epoch_end(self, epoch, logs={}):\n",
        "        if(logs.get('binary_accuracy') > ACCURACY_THRESHOLD):\n",
        "            print(\"\\nReached %2.2f%% accuracy, so stopping training!!\" %(ACCURACY_THRESHOLD*100))\n",
        "            self.model.stop_training = True"
      ],
      "execution_count": 0,
      "outputs": []
    },
    {
      "cell_type": "code",
      "metadata": {
        "id": "tXGCyK2vdbUQ",
        "colab_type": "code",
        "colab": {},
        "outputId": "f871284a-c8aa-4f32-9b6d-cf376a2b2fc5"
      },
      "source": [
        "\n",
        "training_data = np.array([ [0,0,0], [0,0,1], [0,1,0],\n",
        "                           [1,0,1], [1,0,0], [0,1,1],\n",
        "                           [1,1,0], [1,1,1]], \"float32\")\n",
        "\n",
        "# the four expected results in the same order\n",
        "target_data = np.array([ [0],[1],[1],\n",
        "                         [0],[1],[0],\n",
        "                         [0],[1]],\"float32\")\n",
        "\n",
        "model = Sequential()\n",
        "model.add(Dense(64, input_dim=3, activation='relu'))\n",
        "model.add(Dense(1, activation='sigmoid'))\n",
        "\n",
        "model.compile(loss='mean_squared_error',\n",
        "              optimizer='adam',\n",
        "              metrics=['binary_accuracy'])\n",
        "\n",
        "\n",
        "# With Callback\n",
        "obj = monitering()\n",
        "hist = model.fit(training_data, target_data, nb_epoch=300, verbose=2,callbacks=[obj])\n",
        "\n",
        "\n",
        "\n",
        "#with Early stoping monitering Accuracy\n",
        "# es = EarlyStopping(monitor='val_loss', mode='min', verbose=1)\n",
        "# model.fit(training_data, target_data, nb_epoch=500, verbose=2,callbacks=[es])"
      ],
      "execution_count": 0,
      "outputs": [
        {
          "output_type": "stream",
          "text": [
            "C:\\ProgramData\\Anaconda3\\lib\\site-packages\\ipykernel_launcher.py:22: UserWarning: The `nb_epoch` argument in `fit` has been renamed `epochs`.\n"
          ],
          "name": "stderr"
        },
        {
          "output_type": "stream",
          "text": [
            "Epoch 1/300\n",
            " - 2s - loss: 0.2502 - binary_accuracy: 0.5000\n",
            "Epoch 2/300\n",
            " - 0s - loss: 0.2497 - binary_accuracy: 0.5000\n",
            "Epoch 3/300\n",
            " - 0s - loss: 0.2492 - binary_accuracy: 0.5000\n",
            "Epoch 4/300\n",
            " - 0s - loss: 0.2486 - binary_accuracy: 0.5000\n",
            "Epoch 5/300\n",
            " - 0s - loss: 0.2480 - binary_accuracy: 0.6250\n",
            "Epoch 6/300\n",
            " - 0s - loss: 0.2475 - binary_accuracy: 0.6250\n",
            "Epoch 7/300\n",
            " - 0s - loss: 0.2469 - binary_accuracy: 0.6250\n",
            "Epoch 8/300\n",
            " - 0s - loss: 0.2464 - binary_accuracy: 0.6250\n",
            "Epoch 9/300\n",
            " - 0s - loss: 0.2459 - binary_accuracy: 0.6250\n",
            "Epoch 10/300\n",
            " - 0s - loss: 0.2454 - binary_accuracy: 0.6250\n",
            "Epoch 11/300\n",
            " - 0s - loss: 0.2449 - binary_accuracy: 0.6250\n",
            "Epoch 12/300\n",
            " - 0s - loss: 0.2445 - binary_accuracy: 0.6250\n",
            "Epoch 13/300\n",
            " - 0s - loss: 0.2441 - binary_accuracy: 0.8750\n",
            "Epoch 14/300\n",
            " - 0s - loss: 0.2437 - binary_accuracy: 0.8750\n",
            "Epoch 15/300\n",
            " - 0s - loss: 0.2433 - binary_accuracy: 0.8750\n",
            "Epoch 16/300\n",
            " - 0s - loss: 0.2429 - binary_accuracy: 0.8750\n",
            "Epoch 17/300\n",
            " - 0s - loss: 0.2425 - binary_accuracy: 0.8750\n",
            "Epoch 18/300\n",
            " - 0s - loss: 0.2421 - binary_accuracy: 0.8750\n",
            "Epoch 19/300\n",
            " - 0s - loss: 0.2417 - binary_accuracy: 0.8750\n",
            "Epoch 20/300\n",
            " - 0s - loss: 0.2413 - binary_accuracy: 0.8750\n",
            "Epoch 21/300\n",
            " - 0s - loss: 0.2409 - binary_accuracy: 0.8750\n",
            "Epoch 22/300\n",
            " - 0s - loss: 0.2405 - binary_accuracy: 0.8750\n",
            "Epoch 23/300\n",
            " - 0s - loss: 0.2401 - binary_accuracy: 0.8750\n",
            "Epoch 24/300\n",
            " - 0s - loss: 0.2397 - binary_accuracy: 0.8750\n",
            "Epoch 25/300\n",
            " - 0s - loss: 0.2394 - binary_accuracy: 1.0000\n",
            "\n",
            "Reached 90.00% accuracy, so stopping training!!\n"
          ],
          "name": "stdout"
        }
      ]
    },
    {
      "cell_type": "code",
      "metadata": {
        "id": "RduIAPQFdbUW",
        "colab_type": "code",
        "colab": {},
        "outputId": "e5db5335-f671-4a00-ef45-e2457bf1e65d"
      },
      "source": [
        "print( model.predict(training_data).round() )\n",
        "\n",
        "print(hist.history.keys())  #propery of model (important)"
      ],
      "execution_count": 0,
      "outputs": [
        {
          "output_type": "stream",
          "text": [
            "[[0.]\n",
            " [1.]\n",
            " [1.]\n",
            " [0.]\n",
            " [1.]\n",
            " [0.]\n",
            " [0.]\n",
            " [1.]]\n",
            "dict_keys(['loss', 'binary_accuracy'])\n"
          ],
          "name": "stdout"
        }
      ]
    },
    {
      "cell_type": "markdown",
      "metadata": {
        "id": "7Lu2we5vdbUf",
        "colab_type": "text"
      },
      "source": [
        "# Ploting"
      ]
    },
    {
      "cell_type": "code",
      "metadata": {
        "id": "4gjRTdccdbUf",
        "colab_type": "code",
        "colab": {},
        "outputId": "1abd9487-4a14-46c4-fdf3-731e1f90c5df"
      },
      "source": [
        "train_loss = hist.history['loss']\n",
        "#val_loss   = hist.history['val_loss']\n",
        "#train_acc  = hist.history['acc']\n",
        "train_acc  = hist.history['binary_accuracy']\n",
        "#val_acc    = hist.history['val_acc']\n",
        "\n",
        "num_epochs = 300\n",
        "xc         = range(num_epochs)\n",
        "\n",
        "\n",
        "pyplot.figure()\n",
        "pyplot.plot(xc, train_loss, label='train_loss')\n",
        "pyplot.plot(xc, train_acc, label='train_acc')\n",
        "pyplot.legend()\n",
        "pyplot.show()"
      ],
      "execution_count": 0,
      "outputs": [
        {
          "output_type": "display_data",
          "data": {
            "image/png": "[encoded data removed]",
            "text/plain": [
              "<matplotlib.figure.Figure at 0x1daaf83f8d0>"
            ]
          },
          "metadata": {
            "tags": []
          }
        }
      ]
    }
  ]
}